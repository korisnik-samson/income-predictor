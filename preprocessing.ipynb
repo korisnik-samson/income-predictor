{
 "cells": [
  {
   "cell_type": "code",
   "execution_count": 47,
   "id": "initial_id",
   "metadata": {
    "collapsed": true,
    "ExecuteTime": {
     "end_time": "2023-10-20T16:39:56.063179600Z",
     "start_time": "2023-10-20T16:39:55.985648200Z"
    }
   },
   "outputs": [],
   "source": [
    "# IMPORTS\n",
    "\n",
    "import pandas as pd\n",
    "import seaborn as sns\n",
    "\n",
    "from sklearn.preprocessing import LabelEncoder, StandardScaler\n",
    "from sklearn.model_selection import train_test_split\n",
    "from sklearn.ensemble import RandomForestClassifier\n",
    "from sklearn.metrics import accuracy_score, classification_report, confusion_matrix\n",
    "from sklearn.svm import SVC\n",
    "\n",
    "from xgboost import XGBClassifier"
   ]
  },
  {
   "cell_type": "code",
   "execution_count": 48,
   "outputs": [],
   "source": [
    "data = pd.read_csv('src/clean_adult.csv')"
   ],
   "metadata": {
    "collapsed": false,
    "ExecuteTime": {
     "end_time": "2023-10-20T16:39:56.114380800Z",
     "start_time": "2023-10-20T16:39:55.993360100Z"
    }
   },
   "id": "11d366e8d29b8cbf"
  },
  {
   "cell_type": "code",
   "execution_count": 49,
   "outputs": [],
   "source": [
    "# CHECK FOR INTEGRITY"
   ],
   "metadata": {
    "collapsed": false,
    "ExecuteTime": {
     "end_time": "2023-10-20T16:39:56.114380800Z",
     "start_time": "2023-10-20T16:39:56.046704400Z"
    }
   },
   "id": "8c9e9336ed38131b"
  },
  {
   "cell_type": "code",
   "execution_count": 50,
   "outputs": [
    {
     "data": {
      "text/plain": "       Unnamed: 0  age workclass  fnlwgt     education  education.num  \\\n0               1   82   Private  132870       HS-grad              9   \n1               3   54   Private  140359       7th-8th              4   \n2               4   41   Private  264663  Some-college             10   \n3               5   34   Private  216864       HS-grad              9   \n4               6   38   Private  150601          10th              6   \n...           ...  ...       ...     ...           ...            ...   \n30689       32556   22   Private  310152  Some-college             10   \n30690       32557   27   Private  257302    Assoc-acdm             12   \n30691       32558   40   Private  154374       HS-grad              9   \n30692       32559   58   Private  151910       HS-grad              9   \n30693       32560   22   Private  201490       HS-grad              9   \n\n           marital.status         occupation   relationship   race     sex  \\\n0                 Widowed    Exec-managerial  Not-in-family  White  Female   \n1                Divorced  Machine-op-inspct      Unmarried  White  Female   \n2               Separated     Prof-specialty      Own-child  White  Female   \n3                Divorced      Other-service      Unmarried  White  Female   \n4               Separated       Adm-clerical      Unmarried  White    Male   \n...                   ...                ...            ...    ...     ...   \n30689       Never-married    Protective-serv  Not-in-family  White    Male   \n30690  Married-civ-spouse       Tech-support           Wife  White  Female   \n30691  Married-civ-spouse  Machine-op-inspct        Husband  White    Male   \n30692             Widowed       Adm-clerical      Unmarried  White  Female   \n30693       Never-married       Adm-clerical      Own-child  White    Male   \n\n       capital.gain  capital.loss native.country income  \n0                 0          4356  United-States  <=50K  \n1                 0          3900  United-States  <=50K  \n2                 0          3900  United-States  <=50K  \n3                 0          3770  United-States  <=50K  \n4                 0          3770  United-States  <=50K  \n...             ...           ...            ...    ...  \n30689             0             0  United-States  <=50K  \n30690             0             0  United-States  <=50K  \n30691             0             0  United-States   >50K  \n30692             0             0  United-States  <=50K  \n30693             0             0  United-States  <=50K  \n\n[30694 rows x 15 columns]",
      "text/html": "<div>\n<style scoped>\n    .dataframe tbody tr th:only-of-type {\n        vertical-align: middle;\n    }\n\n    .dataframe tbody tr th {\n        vertical-align: top;\n    }\n\n    .dataframe thead th {\n        text-align: right;\n    }\n</style>\n<table border=\"1\" class=\"dataframe\">\n  <thead>\n    <tr style=\"text-align: right;\">\n      <th></th>\n      <th>Unnamed: 0</th>\n      <th>age</th>\n      <th>workclass</th>\n      <th>fnlwgt</th>\n      <th>education</th>\n      <th>education.num</th>\n      <th>marital.status</th>\n      <th>occupation</th>\n      <th>relationship</th>\n      <th>race</th>\n      <th>sex</th>\n      <th>capital.gain</th>\n      <th>capital.loss</th>\n      <th>native.country</th>\n      <th>income</th>\n    </tr>\n  </thead>\n  <tbody>\n    <tr>\n      <th>0</th>\n      <td>1</td>\n      <td>82</td>\n      <td>Private</td>\n      <td>132870</td>\n      <td>HS-grad</td>\n      <td>9</td>\n      <td>Widowed</td>\n      <td>Exec-managerial</td>\n      <td>Not-in-family</td>\n      <td>White</td>\n      <td>Female</td>\n      <td>0</td>\n      <td>4356</td>\n      <td>United-States</td>\n      <td>&lt;=50K</td>\n    </tr>\n    <tr>\n      <th>1</th>\n      <td>3</td>\n      <td>54</td>\n      <td>Private</td>\n      <td>140359</td>\n      <td>7th-8th</td>\n      <td>4</td>\n      <td>Divorced</td>\n      <td>Machine-op-inspct</td>\n      <td>Unmarried</td>\n      <td>White</td>\n      <td>Female</td>\n      <td>0</td>\n      <td>3900</td>\n      <td>United-States</td>\n      <td>&lt;=50K</td>\n    </tr>\n    <tr>\n      <th>2</th>\n      <td>4</td>\n      <td>41</td>\n      <td>Private</td>\n      <td>264663</td>\n      <td>Some-college</td>\n      <td>10</td>\n      <td>Separated</td>\n      <td>Prof-specialty</td>\n      <td>Own-child</td>\n      <td>White</td>\n      <td>Female</td>\n      <td>0</td>\n      <td>3900</td>\n      <td>United-States</td>\n      <td>&lt;=50K</td>\n    </tr>\n    <tr>\n      <th>3</th>\n      <td>5</td>\n      <td>34</td>\n      <td>Private</td>\n      <td>216864</td>\n      <td>HS-grad</td>\n      <td>9</td>\n      <td>Divorced</td>\n      <td>Other-service</td>\n      <td>Unmarried</td>\n      <td>White</td>\n      <td>Female</td>\n      <td>0</td>\n      <td>3770</td>\n      <td>United-States</td>\n      <td>&lt;=50K</td>\n    </tr>\n    <tr>\n      <th>4</th>\n      <td>6</td>\n      <td>38</td>\n      <td>Private</td>\n      <td>150601</td>\n      <td>10th</td>\n      <td>6</td>\n      <td>Separated</td>\n      <td>Adm-clerical</td>\n      <td>Unmarried</td>\n      <td>White</td>\n      <td>Male</td>\n      <td>0</td>\n      <td>3770</td>\n      <td>United-States</td>\n      <td>&lt;=50K</td>\n    </tr>\n    <tr>\n      <th>...</th>\n      <td>...</td>\n      <td>...</td>\n      <td>...</td>\n      <td>...</td>\n      <td>...</td>\n      <td>...</td>\n      <td>...</td>\n      <td>...</td>\n      <td>...</td>\n      <td>...</td>\n      <td>...</td>\n      <td>...</td>\n      <td>...</td>\n      <td>...</td>\n      <td>...</td>\n    </tr>\n    <tr>\n      <th>30689</th>\n      <td>32556</td>\n      <td>22</td>\n      <td>Private</td>\n      <td>310152</td>\n      <td>Some-college</td>\n      <td>10</td>\n      <td>Never-married</td>\n      <td>Protective-serv</td>\n      <td>Not-in-family</td>\n      <td>White</td>\n      <td>Male</td>\n      <td>0</td>\n      <td>0</td>\n      <td>United-States</td>\n      <td>&lt;=50K</td>\n    </tr>\n    <tr>\n      <th>30690</th>\n      <td>32557</td>\n      <td>27</td>\n      <td>Private</td>\n      <td>257302</td>\n      <td>Assoc-acdm</td>\n      <td>12</td>\n      <td>Married-civ-spouse</td>\n      <td>Tech-support</td>\n      <td>Wife</td>\n      <td>White</td>\n      <td>Female</td>\n      <td>0</td>\n      <td>0</td>\n      <td>United-States</td>\n      <td>&lt;=50K</td>\n    </tr>\n    <tr>\n      <th>30691</th>\n      <td>32558</td>\n      <td>40</td>\n      <td>Private</td>\n      <td>154374</td>\n      <td>HS-grad</td>\n      <td>9</td>\n      <td>Married-civ-spouse</td>\n      <td>Machine-op-inspct</td>\n      <td>Husband</td>\n      <td>White</td>\n      <td>Male</td>\n      <td>0</td>\n      <td>0</td>\n      <td>United-States</td>\n      <td>&gt;50K</td>\n    </tr>\n    <tr>\n      <th>30692</th>\n      <td>32559</td>\n      <td>58</td>\n      <td>Private</td>\n      <td>151910</td>\n      <td>HS-grad</td>\n      <td>9</td>\n      <td>Widowed</td>\n      <td>Adm-clerical</td>\n      <td>Unmarried</td>\n      <td>White</td>\n      <td>Female</td>\n      <td>0</td>\n      <td>0</td>\n      <td>United-States</td>\n      <td>&lt;=50K</td>\n    </tr>\n    <tr>\n      <th>30693</th>\n      <td>32560</td>\n      <td>22</td>\n      <td>Private</td>\n      <td>201490</td>\n      <td>HS-grad</td>\n      <td>9</td>\n      <td>Never-married</td>\n      <td>Adm-clerical</td>\n      <td>Own-child</td>\n      <td>White</td>\n      <td>Male</td>\n      <td>0</td>\n      <td>0</td>\n      <td>United-States</td>\n      <td>&lt;=50K</td>\n    </tr>\n  </tbody>\n</table>\n<p>30694 rows × 15 columns</p>\n</div>"
     },
     "execution_count": 50,
     "metadata": {},
     "output_type": "execute_result"
    }
   ],
   "source": [
    "data"
   ],
   "metadata": {
    "collapsed": false,
    "ExecuteTime": {
     "end_time": "2023-10-20T16:39:56.116007900Z",
     "start_time": "2023-10-20T16:39:56.051732100Z"
    }
   },
   "id": "cfea35ac92e6be67"
  },
  {
   "cell_type": "code",
   "execution_count": 51,
   "outputs": [],
   "source": [
    "label_encoder = LabelEncoder()\n",
    "\n",
    "categorical_cols = ['income', 'workclass', 'education', 'marital.status', 'occupation', 'relationship', 'race', 'sex', 'native.country']\n",
    "data[categorical_cols] = data[categorical_cols].apply(label_encoder.fit_transform)"
   ],
   "metadata": {
    "collapsed": false,
    "ExecuteTime": {
     "end_time": "2023-10-20T16:39:56.116007900Z",
     "start_time": "2023-10-20T16:39:56.066720800Z"
    }
   },
   "id": "5f6ee180b881328b"
  },
  {
   "cell_type": "code",
   "execution_count": 52,
   "outputs": [
    {
     "data": {
      "text/plain": "       Unnamed: 0  age  workclass  fnlwgt  education  education.num  \\\n0               1   82          2  132870         11              9   \n1               3   54          2  140359          5              4   \n2               4   41          2  264663         15             10   \n3               5   34          2  216864         11              9   \n4               6   38          2  150601          0              6   \n...           ...  ...        ...     ...        ...            ...   \n30689       32556   22          2  310152         15             10   \n30690       32557   27          2  257302          7             12   \n30691       32558   40          2  154374         11              9   \n30692       32559   58          2  151910         11              9   \n30693       32560   22          2  201490         11              9   \n\n       marital.status  occupation  relationship  race  sex  capital.gain  \\\n0                   6           3             1     4    0             0   \n1                   0           6             4     4    0             0   \n2                   5           9             3     4    0             0   \n3                   0           7             4     4    0             0   \n4                   5           0             4     4    1             0   \n...               ...         ...           ...   ...  ...           ...   \n30689               4          10             1     4    1             0   \n30690               2          12             5     4    0             0   \n30691               2           6             0     4    1             0   \n30692               6           0             4     4    0             0   \n30693               4           0             3     4    1             0   \n\n       capital.loss  native.country  income  \n0              4356              39       0  \n1              3900              39       0  \n2              3900              39       0  \n3              3770              39       0  \n4              3770              39       0  \n...             ...             ...     ...  \n30689             0              39       0  \n30690             0              39       0  \n30691             0              39       1  \n30692             0              39       0  \n30693             0              39       0  \n\n[30694 rows x 15 columns]",
      "text/html": "<div>\n<style scoped>\n    .dataframe tbody tr th:only-of-type {\n        vertical-align: middle;\n    }\n\n    .dataframe tbody tr th {\n        vertical-align: top;\n    }\n\n    .dataframe thead th {\n        text-align: right;\n    }\n</style>\n<table border=\"1\" class=\"dataframe\">\n  <thead>\n    <tr style=\"text-align: right;\">\n      <th></th>\n      <th>Unnamed: 0</th>\n      <th>age</th>\n      <th>workclass</th>\n      <th>fnlwgt</th>\n      <th>education</th>\n      <th>education.num</th>\n      <th>marital.status</th>\n      <th>occupation</th>\n      <th>relationship</th>\n      <th>race</th>\n      <th>sex</th>\n      <th>capital.gain</th>\n      <th>capital.loss</th>\n      <th>native.country</th>\n      <th>income</th>\n    </tr>\n  </thead>\n  <tbody>\n    <tr>\n      <th>0</th>\n      <td>1</td>\n      <td>82</td>\n      <td>2</td>\n      <td>132870</td>\n      <td>11</td>\n      <td>9</td>\n      <td>6</td>\n      <td>3</td>\n      <td>1</td>\n      <td>4</td>\n      <td>0</td>\n      <td>0</td>\n      <td>4356</td>\n      <td>39</td>\n      <td>0</td>\n    </tr>\n    <tr>\n      <th>1</th>\n      <td>3</td>\n      <td>54</td>\n      <td>2</td>\n      <td>140359</td>\n      <td>5</td>\n      <td>4</td>\n      <td>0</td>\n      <td>6</td>\n      <td>4</td>\n      <td>4</td>\n      <td>0</td>\n      <td>0</td>\n      <td>3900</td>\n      <td>39</td>\n      <td>0</td>\n    </tr>\n    <tr>\n      <th>2</th>\n      <td>4</td>\n      <td>41</td>\n      <td>2</td>\n      <td>264663</td>\n      <td>15</td>\n      <td>10</td>\n      <td>5</td>\n      <td>9</td>\n      <td>3</td>\n      <td>4</td>\n      <td>0</td>\n      <td>0</td>\n      <td>3900</td>\n      <td>39</td>\n      <td>0</td>\n    </tr>\n    <tr>\n      <th>3</th>\n      <td>5</td>\n      <td>34</td>\n      <td>2</td>\n      <td>216864</td>\n      <td>11</td>\n      <td>9</td>\n      <td>0</td>\n      <td>7</td>\n      <td>4</td>\n      <td>4</td>\n      <td>0</td>\n      <td>0</td>\n      <td>3770</td>\n      <td>39</td>\n      <td>0</td>\n    </tr>\n    <tr>\n      <th>4</th>\n      <td>6</td>\n      <td>38</td>\n      <td>2</td>\n      <td>150601</td>\n      <td>0</td>\n      <td>6</td>\n      <td>5</td>\n      <td>0</td>\n      <td>4</td>\n      <td>4</td>\n      <td>1</td>\n      <td>0</td>\n      <td>3770</td>\n      <td>39</td>\n      <td>0</td>\n    </tr>\n    <tr>\n      <th>...</th>\n      <td>...</td>\n      <td>...</td>\n      <td>...</td>\n      <td>...</td>\n      <td>...</td>\n      <td>...</td>\n      <td>...</td>\n      <td>...</td>\n      <td>...</td>\n      <td>...</td>\n      <td>...</td>\n      <td>...</td>\n      <td>...</td>\n      <td>...</td>\n      <td>...</td>\n    </tr>\n    <tr>\n      <th>30689</th>\n      <td>32556</td>\n      <td>22</td>\n      <td>2</td>\n      <td>310152</td>\n      <td>15</td>\n      <td>10</td>\n      <td>4</td>\n      <td>10</td>\n      <td>1</td>\n      <td>4</td>\n      <td>1</td>\n      <td>0</td>\n      <td>0</td>\n      <td>39</td>\n      <td>0</td>\n    </tr>\n    <tr>\n      <th>30690</th>\n      <td>32557</td>\n      <td>27</td>\n      <td>2</td>\n      <td>257302</td>\n      <td>7</td>\n      <td>12</td>\n      <td>2</td>\n      <td>12</td>\n      <td>5</td>\n      <td>4</td>\n      <td>0</td>\n      <td>0</td>\n      <td>0</td>\n      <td>39</td>\n      <td>0</td>\n    </tr>\n    <tr>\n      <th>30691</th>\n      <td>32558</td>\n      <td>40</td>\n      <td>2</td>\n      <td>154374</td>\n      <td>11</td>\n      <td>9</td>\n      <td>2</td>\n      <td>6</td>\n      <td>0</td>\n      <td>4</td>\n      <td>1</td>\n      <td>0</td>\n      <td>0</td>\n      <td>39</td>\n      <td>1</td>\n    </tr>\n    <tr>\n      <th>30692</th>\n      <td>32559</td>\n      <td>58</td>\n      <td>2</td>\n      <td>151910</td>\n      <td>11</td>\n      <td>9</td>\n      <td>6</td>\n      <td>0</td>\n      <td>4</td>\n      <td>4</td>\n      <td>0</td>\n      <td>0</td>\n      <td>0</td>\n      <td>39</td>\n      <td>0</td>\n    </tr>\n    <tr>\n      <th>30693</th>\n      <td>32560</td>\n      <td>22</td>\n      <td>2</td>\n      <td>201490</td>\n      <td>11</td>\n      <td>9</td>\n      <td>4</td>\n      <td>0</td>\n      <td>3</td>\n      <td>4</td>\n      <td>1</td>\n      <td>0</td>\n      <td>0</td>\n      <td>39</td>\n      <td>0</td>\n    </tr>\n  </tbody>\n</table>\n<p>30694 rows × 15 columns</p>\n</div>"
     },
     "execution_count": 52,
     "metadata": {},
     "output_type": "execute_result"
    }
   ],
   "source": [
    "data"
   ],
   "metadata": {
    "collapsed": false,
    "ExecuteTime": {
     "end_time": "2023-10-20T16:39:56.119905900Z",
     "start_time": "2023-10-20T16:39:56.104563300Z"
    }
   },
   "id": "80afab7366987a7a"
  },
  {
   "cell_type": "code",
   "execution_count": 53,
   "outputs": [],
   "source": [
    "x_train, x_test, y_train, y_test = train_test_split(data.drop(columns=['income']), data['income'], test_size=0.2, random_state=42)"
   ],
   "metadata": {
    "collapsed": false,
    "ExecuteTime": {
     "end_time": "2023-10-20T16:39:56.132104800Z",
     "start_time": "2023-10-20T16:39:56.116905600Z"
    }
   },
   "id": "e550388a2cf9e423"
  },
  {
   "cell_type": "code",
   "execution_count": 54,
   "outputs": [],
   "source": [
    "scaler = StandardScaler()\n",
    "x_train = scaler.fit_transform(x_train)\n",
    "x_test = scaler.transform(x_test)"
   ],
   "metadata": {
    "collapsed": false,
    "ExecuteTime": {
     "end_time": "2023-10-20T16:39:56.176915500Z",
     "start_time": "2023-10-20T16:39:56.133108100Z"
    }
   },
   "id": "101ba31b08a786a7"
  },
  {
   "cell_type": "code",
   "execution_count": 55,
   "outputs": [],
   "source": [
    "rfc = RandomForestClassifier()\n",
    "rfc.fit(x_train, y_train)\n",
    "y_pred = rfc.predict(x_test)"
   ],
   "metadata": {
    "collapsed": false,
    "ExecuteTime": {
     "end_time": "2023-10-20T16:40:00.663229900Z",
     "start_time": "2023-10-20T16:39:56.151697900Z"
    }
   },
   "id": "caff81f5fb769a44"
  },
  {
   "cell_type": "code",
   "execution_count": 56,
   "outputs": [
    {
     "data": {
      "text/plain": "0.8651246131291741"
     },
     "execution_count": 56,
     "metadata": {},
     "output_type": "execute_result"
    }
   ],
   "source": [
    "# ACCURACY SCORE\n",
    "accuracy_score(y_test, y_pred)"
   ],
   "metadata": {
    "collapsed": false,
    "ExecuteTime": {
     "end_time": "2023-10-20T16:40:00.673610400Z",
     "start_time": "2023-10-20T16:40:00.666358100Z"
    }
   },
   "id": "be3b4772e08b4072"
  },
  {
   "cell_type": "code",
   "execution_count": 57,
   "outputs": [
    {
     "name": "stdout",
     "output_type": "stream",
     "text": [
      "              precision    recall  f1-score   support\n",
      "\n",
      "           0       0.89      0.94      0.91      4699\n",
      "           1       0.76      0.62      0.68      1440\n",
      "\n",
      "    accuracy                           0.87      6139\n",
      "   macro avg       0.82      0.78      0.80      6139\n",
      "weighted avg       0.86      0.87      0.86      6139\n"
     ]
    }
   ],
   "source": [
    "# CLASSIFICATION REPORT\n",
    "print(classification_report(y_test, y_pred))"
   ],
   "metadata": {
    "collapsed": false,
    "ExecuteTime": {
     "end_time": "2023-10-20T16:40:00.689435600Z",
     "start_time": "2023-10-20T16:40:00.671447500Z"
    }
   },
   "id": "2883f83713bf3d91"
  },
  {
   "cell_type": "code",
   "execution_count": 58,
   "outputs": [
    {
     "data": {
      "text/plain": "<Axes: >"
     },
     "execution_count": 58,
     "metadata": {},
     "output_type": "execute_result"
    },
    {
     "data": {
      "text/plain": "<Figure size 640x480 with 2 Axes>",
      "image/png": "[encoded data removed]"
     },
     "metadata": {},
     "output_type": "display_data"
    }
   ],
   "source": [
    "# CONFUSION MATRIX\n",
    "sns.heatmap(confusion_matrix(y_test, y_pred), annot=True, fmt='d')"
   ],
   "metadata": {
    "collapsed": false,
    "ExecuteTime": {
     "end_time": "2023-10-20T16:40:00.843627300Z",
     "start_time": "2023-10-20T16:40:00.686869500Z"
    }
   },
   "id": "53dea9971e07e2f0"
  },
  {
   "cell_type": "code",
   "execution_count": 59,
   "outputs": [],
   "source": [
    "# XGBOOST CLASSIFIER"
   ],
   "metadata": {
    "collapsed": false,
    "ExecuteTime": {
     "end_time": "2023-10-20T16:40:00.852689100Z",
     "start_time": "2023-10-20T16:40:00.845138500Z"
    }
   },
   "id": "404f26dda151ee4d"
  },
  {
   "cell_type": "code",
   "execution_count": 60,
   "outputs": [
    {
     "name": "stderr",
     "output_type": "stream",
     "text": [
      "C:\\Users\\Samson\\OneDrive - samxhavier\\Desktop\\FinalProject-AI\\venv\\Lib\\site-packages\\xgboost\\data.py:520: FutureWarning: is_sparse is deprecated and will be removed in a future version. Check `isinstance(dtype, pd.SparseDtype)` instead.\n",
      "  if is_sparse(data):\n"
     ]
    }
   ],
   "source": [
    "xgb = XGBClassifier()\n",
    "xgb.fit(x_train, y_train)\n",
    "y_pred = xgb.predict(x_test)"
   ],
   "metadata": {
    "collapsed": false,
    "ExecuteTime": {
     "end_time": "2023-10-20T16:40:00.995444100Z",
     "start_time": "2023-10-20T16:40:00.851349800Z"
    }
   },
   "id": "156207c2ed557f65"
  },
  {
   "cell_type": "code",
   "execution_count": 61,
   "outputs": [
    {
     "data": {
      "text/plain": "0.8669164359016126"
     },
     "execution_count": 61,
     "metadata": {},
     "output_type": "execute_result"
    }
   ],
   "source": [
    "# ACCURACY SCORE\n",
    "accuracy_score(y_test, y_pred)"
   ],
   "metadata": {
    "collapsed": false,
    "ExecuteTime": {
     "end_time": "2023-10-20T16:40:01.004460200Z",
     "start_time": "2023-10-20T16:40:00.994940500Z"
    }
   },
   "id": "3e1a0400a7e24a"
  },
  {
   "cell_type": "code",
   "execution_count": 62,
   "outputs": [
    {
     "name": "stdout",
     "output_type": "stream",
     "text": [
      "              precision    recall  f1-score   support\n",
      "\n",
      "           0       0.90      0.93      0.91      4699\n",
      "           1       0.75      0.65      0.69      1440\n",
      "\n",
      "    accuracy                           0.87      6139\n",
      "   macro avg       0.82      0.79      0.80      6139\n",
      "weighted avg       0.86      0.87      0.86      6139\n"
     ]
    }
   ],
   "source": [
    "# CLASSIFICATION REPORT\n",
    "print(classification_report(y_test, y_pred))"
   ],
   "metadata": {
    "collapsed": false,
    "ExecuteTime": {
     "end_time": "2023-10-20T16:40:01.029486700Z",
     "start_time": "2023-10-20T16:40:01.004460200Z"
    }
   },
   "id": "fafa4872604024a7"
  },
  {
   "cell_type": "code",
   "execution_count": 63,
   "outputs": [
    {
     "data": {
      "text/plain": "<Axes: >"
     },
     "execution_count": 63,
     "metadata": {},
     "output_type": "execute_result"
    },
    {
     "data": {
      "text/plain": "<Figure size 640x480 with 2 Axes>",
      "image/png": "[encoded data removed]"
     },
     "metadata": {},
     "output_type": "display_data"
    }
   ],
   "source": [
    "sns.heatmap(confusion_matrix(y_test, y_pred), annot=True, fmt='d')"
   ],
   "metadata": {
    "collapsed": false,
    "ExecuteTime": {
     "end_time": "2023-10-20T16:40:01.230405900Z",
     "start_time": "2023-10-20T16:40:01.024471600Z"
    }
   },
   "id": "d080a3c25e16efc3"
  },
  {
   "cell_type": "code",
   "execution_count": 64,
   "outputs": [],
   "source": [
    "# SUPPORT VECTOR MACHINES"
   ],
   "metadata": {
    "collapsed": false,
    "ExecuteTime": {
     "end_time": "2023-10-20T16:40:01.238328100Z",
     "start_time": "2023-10-20T16:40:01.230405900Z"
    }
   },
   "id": "4ec558c9539011c1"
  },
  {
   "cell_type": "code",
   "execution_count": 65,
   "outputs": [],
   "source": [
    "svc = SVC()\n",
    "svc.fit(x_train, y_train)\n",
    "y_pred = svc.predict(x_test)"
   ],
   "metadata": {
    "collapsed": false,
    "ExecuteTime": {
     "end_time": "2023-10-20T16:40:15.918899100Z",
     "start_time": "2023-10-20T16:40:01.236328Z"
    }
   },
   "id": "a4a14e195ea94d7"
  },
  {
   "cell_type": "code",
   "execution_count": 66,
   "outputs": [
    {
     "data": {
      "text/plain": "0.8468805994461639"
     },
     "execution_count": 66,
     "metadata": {},
     "output_type": "execute_result"
    }
   ],
   "source": [
    "# ACCURACY SCORE\n",
    "accuracy_score(y_test, y_pred)"
   ],
   "metadata": {
    "collapsed": false,
    "ExecuteTime": {
     "end_time": "2023-10-20T16:40:15.927397900Z",
     "start_time": "2023-10-20T16:40:15.919898300Z"
    }
   },
   "id": "1a89d5cdb260d6dd"
  },
  {
   "cell_type": "code",
   "execution_count": 67,
   "outputs": [
    {
     "name": "stdout",
     "output_type": "stream",
     "text": [
      "              precision    recall  f1-score   support\n",
      "\n",
      "           0       0.87      0.94      0.90      4699\n",
      "           1       0.74      0.54      0.62      1440\n",
      "\n",
      "    accuracy                           0.85      6139\n",
      "   macro avg       0.80      0.74      0.76      6139\n",
      "weighted avg       0.84      0.85      0.84      6139\n"
     ]
    }
   ],
   "source": [
    "# CLASSIFICATION REPORT\n",
    "print(classification_report(y_test, y_pred))"
   ],
   "metadata": {
    "collapsed": false,
    "ExecuteTime": {
     "end_time": "2023-10-20T16:40:15.949005500Z",
     "start_time": "2023-10-20T16:40:15.927397900Z"
    }
   },
   "id": "d398526e38d489e7"
  },
  {
   "cell_type": "code",
   "execution_count": 68,
   "outputs": [
    {
     "data": {
      "text/plain": "<Axes: >"
     },
     "execution_count": 68,
     "metadata": {},
     "output_type": "execute_result"
    },
    {
     "data": {
      "text/plain": "<Figure size 640x480 with 2 Axes>",
      "image/png": "[encoded data removed]"
     },
     "metadata": {},
     "output_type": "display_data"
    }
   ],
   "source": [
    "sns.heatmap(confusion_matrix(y_test, y_pred), annot=True, fmt='d')"
   ],
   "metadata": {
    "collapsed": false,
    "ExecuteTime": {
     "end_time": "2023-10-20T16:40:16.232255600Z",
     "start_time": "2023-10-20T16:40:15.945487400Z"
    }
   },
   "id": "21dea9a2b51c75ee"
  },
  {
   "cell_type": "code",
   "execution_count": 68,
   "outputs": [],
   "source": [
    "# RESULTS {\n",
    "#   RANDOM-FORESTS = 0.8651246131291741\n",
    "#   XGBOOST CLASSIFIER = 0.8669164359016126\n",
    "#   SUPPORT VECTOR MACHINES = 0.8468805994461639\n",
    "\n",
    "# AS A RESULT, XGBOOST-CLASSIFIER OBTAINS THE HIGHEST ACCURACY -->\n",
    "# |---------------------|\n",
    "# |  0.8669164359016126 |\n",
    "# |---------------------|"
   ],
   "metadata": {
    "collapsed": false,
    "ExecuteTime": {
     "end_time": "2023-10-20T16:40:16.238661600Z",
     "start_time": "2023-10-20T16:40:16.233116900Z"
    }
   },
   "id": "286c5c01f0437827"
  }
 ],
 "metadata": {
  "kernelspec": {
   "display_name": "Python 3",
   "language": "python",
   "name": "python3"
  },
  "language_info": {
   "codemirror_mode": {
    "name": "ipython",
    "version": 2
   },
   "file_extension": ".py",
   "mimetype": "text/x-python",
   "name": "python",
   "nbconvert_exporter": "python",
   "pygments_lexer": "ipython2",
   "version": "2.7.6"
  }
 },
 "nbformat": 4,
 "nbformat_minor": 5
}
