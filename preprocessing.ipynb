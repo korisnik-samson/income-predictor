{
 "cells": [
  {
   "cell_type": "code",
   "execution_count": 1,
   "id": "initial_id",
   "metadata": {
    "collapsed": true,
    "ExecuteTime": {
     "end_time": "2023-10-21T09:58:09.423760400Z",
     "start_time": "2023-10-21T09:58:08.989013300Z"
    }
   },
   "outputs": [],
   "source": [
    "# IMPORTS\n",
    "\n",
    "import pandas as pd\n",
    "import seaborn as sns\n",
    "\n",
    "from sklearn.preprocessing import LabelEncoder, StandardScaler\n",
    "from sklearn.model_selection import train_test_split\n",
    "from sklearn.ensemble import RandomForestClassifier\n",
    "from sklearn.metrics import accuracy_score, classification_report, confusion_matrix\n",
    "from sklearn.svm import SVC\n",
    "\n",
    "from xgboost import XGBClassifier"
   ]
  },
  {
   "cell_type": "code",
   "execution_count": 2,
   "outputs": [],
   "source": [
    "data = pd.read_csv('src/clean_adult.csv')"
   ],
   "metadata": {
    "collapsed": false,
    "ExecuteTime": {
     "end_time": "2023-10-21T09:58:09.479775Z",
     "start_time": "2023-10-21T09:58:09.423760400Z"
    }
   },
   "id": "11d366e8d29b8cbf"
  },
  {
   "cell_type": "code",
   "execution_count": 3,
   "outputs": [],
   "source": [
    "# CHECK FOR INTEGRITY"
   ],
   "metadata": {
    "collapsed": false,
    "ExecuteTime": {
     "end_time": "2023-10-21T09:58:09.491550100Z",
     "start_time": "2023-10-21T09:58:09.480781700Z"
    }
   },
   "id": "8c9e9336ed38131b"
  },
  {
   "cell_type": "code",
   "execution_count": 4,
   "outputs": [
    {
     "data": {
      "text/plain": "       age workclass  fnlwgt     education  education.num      marital.status  \\\n0       82   Private  132870       HS-grad              9             Widowed   \n1       54   Private  140359       7th-8th              4            Divorced   \n2       41   Private  264663  Some-college             10           Separated   \n3       34   Private  216864       HS-grad              9            Divorced   \n4       38   Private  150601          10th              6           Separated   \n...    ...       ...     ...           ...            ...                 ...   \n30689   22   Private  310152  Some-college             10       Never-married   \n30690   27   Private  257302    Assoc-acdm             12  Married-civ-spouse   \n30691   40   Private  154374       HS-grad              9  Married-civ-spouse   \n30692   58   Private  151910       HS-grad              9             Widowed   \n30693   22   Private  201490       HS-grad              9       Never-married   \n\n              occupation   relationship   race     sex  capital.gain  \\\n0        Exec-managerial  Not-in-family  White  Female             0   \n1      Machine-op-inspct      Unmarried  White  Female             0   \n2         Prof-specialty      Own-child  White  Female             0   \n3          Other-service      Unmarried  White  Female             0   \n4           Adm-clerical      Unmarried  White    Male             0   \n...                  ...            ...    ...     ...           ...   \n30689    Protective-serv  Not-in-family  White    Male             0   \n30690       Tech-support           Wife  White  Female             0   \n30691  Machine-op-inspct        Husband  White    Male             0   \n30692       Adm-clerical      Unmarried  White  Female             0   \n30693       Adm-clerical      Own-child  White    Male             0   \n\n       capital.loss native.country income  \n0              4356  United-States  <=50K  \n1              3900  United-States  <=50K  \n2              3900  United-States  <=50K  \n3              3770  United-States  <=50K  \n4              3770  United-States  <=50K  \n...             ...            ...    ...  \n30689             0  United-States  <=50K  \n30690             0  United-States  <=50K  \n30691             0  United-States   >50K  \n30692             0  United-States  <=50K  \n30693             0  United-States  <=50K  \n\n[30694 rows x 14 columns]",
      "text/html": "<div>\n<style scoped>\n    .dataframe tbody tr th:only-of-type {\n        vertical-align: middle;\n    }\n\n    .dataframe tbody tr th {\n        vertical-align: top;\n    }\n\n    .dataframe thead th {\n        text-align: right;\n    }\n</style>\n<table border=\"1\" class=\"dataframe\">\n  <thead>\n    <tr style=\"text-align: right;\">\n      <th></th>\n      <th>age</th>\n      <th>workclass</th>\n      <th>fnlwgt</th>\n      <th>education</th>\n      <th>education.num</th>\n      <th>marital.status</th>\n      <th>occupation</th>\n      <th>relationship</th>\n      <th>race</th>\n      <th>sex</th>\n      <th>capital.gain</th>\n      <th>capital.loss</th>\n      <th>native.country</th>\n      <th>income</th>\n    </tr>\n  </thead>\n  <tbody>\n    <tr>\n      <th>0</th>\n      <td>82</td>\n      <td>Private</td>\n      <td>132870</td>\n      <td>HS-grad</td>\n      <td>9</td>\n      <td>Widowed</td>\n      <td>Exec-managerial</td>\n      <td>Not-in-family</td>\n      <td>White</td>\n      <td>Female</td>\n      <td>0</td>\n      <td>4356</td>\n      <td>United-States</td>\n      <td>&lt;=50K</td>\n    </tr>\n    <tr>\n      <th>1</th>\n      <td>54</td>\n      <td>Private</td>\n      <td>140359</td>\n      <td>7th-8th</td>\n      <td>4</td>\n      <td>Divorced</td>\n      <td>Machine-op-inspct</td>\n      <td>Unmarried</td>\n      <td>White</td>\n      <td>Female</td>\n      <td>0</td>\n      <td>3900</td>\n      <td>United-States</td>\n      <td>&lt;=50K</td>\n    </tr>\n    <tr>\n      <th>2</th>\n      <td>41</td>\n      <td>Private</td>\n      <td>264663</td>\n      <td>Some-college</td>\n      <td>10</td>\n      <td>Separated</td>\n      <td>Prof-specialty</td>\n      <td>Own-child</td>\n      <td>White</td>\n      <td>Female</td>\n      <td>0</td>\n      <td>3900</td>\n      <td>United-States</td>\n      <td>&lt;=50K</td>\n    </tr>\n    <tr>\n      <th>3</th>\n      <td>34</td>\n      <td>Private</td>\n      <td>216864</td>\n      <td>HS-grad</td>\n      <td>9</td>\n      <td>Divorced</td>\n      <td>Other-service</td>\n      <td>Unmarried</td>\n      <td>White</td>\n      <td>Female</td>\n      <td>0</td>\n      <td>3770</td>\n      <td>United-States</td>\n      <td>&lt;=50K</td>\n    </tr>\n    <tr>\n      <th>4</th>\n      <td>38</td>\n      <td>Private</td>\n      <td>150601</td>\n      <td>10th</td>\n      <td>6</td>\n      <td>Separated</td>\n      <td>Adm-clerical</td>\n      <td>Unmarried</td>\n      <td>White</td>\n      <td>Male</td>\n      <td>0</td>\n      <td>3770</td>\n      <td>United-States</td>\n      <td>&lt;=50K</td>\n    </tr>\n    <tr>\n      <th>...</th>\n      <td>...</td>\n      <td>...</td>\n      <td>...</td>\n      <td>...</td>\n      <td>...</td>\n      <td>...</td>\n      <td>...</td>\n      <td>...</td>\n      <td>...</td>\n      <td>...</td>\n      <td>...</td>\n      <td>...</td>\n      <td>...</td>\n      <td>...</td>\n    </tr>\n    <tr>\n      <th>30689</th>\n      <td>22</td>\n      <td>Private</td>\n      <td>310152</td>\n      <td>Some-college</td>\n      <td>10</td>\n      <td>Never-married</td>\n      <td>Protective-serv</td>\n      <td>Not-in-family</td>\n      <td>White</td>\n      <td>Male</td>\n      <td>0</td>\n      <td>0</td>\n      <td>United-States</td>\n      <td>&lt;=50K</td>\n    </tr>\n    <tr>\n      <th>30690</th>\n      <td>27</td>\n      <td>Private</td>\n      <td>257302</td>\n      <td>Assoc-acdm</td>\n      <td>12</td>\n      <td>Married-civ-spouse</td>\n      <td>Tech-support</td>\n      <td>Wife</td>\n      <td>White</td>\n      <td>Female</td>\n      <td>0</td>\n      <td>0</td>\n      <td>United-States</td>\n      <td>&lt;=50K</td>\n    </tr>\n    <tr>\n      <th>30691</th>\n      <td>40</td>\n      <td>Private</td>\n      <td>154374</td>\n      <td>HS-grad</td>\n      <td>9</td>\n      <td>Married-civ-spouse</td>\n      <td>Machine-op-inspct</td>\n      <td>Husband</td>\n      <td>White</td>\n      <td>Male</td>\n      <td>0</td>\n      <td>0</td>\n      <td>United-States</td>\n      <td>&gt;50K</td>\n    </tr>\n    <tr>\n      <th>30692</th>\n      <td>58</td>\n      <td>Private</td>\n      <td>151910</td>\n      <td>HS-grad</td>\n      <td>9</td>\n      <td>Widowed</td>\n      <td>Adm-clerical</td>\n      <td>Unmarried</td>\n      <td>White</td>\n      <td>Female</td>\n      <td>0</td>\n      <td>0</td>\n      <td>United-States</td>\n      <td>&lt;=50K</td>\n    </tr>\n    <tr>\n      <th>30693</th>\n      <td>22</td>\n      <td>Private</td>\n      <td>201490</td>\n      <td>HS-grad</td>\n      <td>9</td>\n      <td>Never-married</td>\n      <td>Adm-clerical</td>\n      <td>Own-child</td>\n      <td>White</td>\n      <td>Male</td>\n      <td>0</td>\n      <td>0</td>\n      <td>United-States</td>\n      <td>&lt;=50K</td>\n    </tr>\n  </tbody>\n</table>\n<p>30694 rows × 14 columns</p>\n</div>"
     },
     "execution_count": 4,
     "metadata": {},
     "output_type": "execute_result"
    }
   ],
   "source": [
    "data"
   ],
   "metadata": {
    "collapsed": false,
    "ExecuteTime": {
     "end_time": "2023-10-21T09:58:09.503589100Z",
     "start_time": "2023-10-21T09:58:09.485814400Z"
    }
   },
   "id": "cfea35ac92e6be67"
  },
  {
   "cell_type": "code",
   "execution_count": 5,
   "outputs": [],
   "source": [
    "label_encoder = LabelEncoder()\n",
    "\n",
    "categorical_cols = ['income', 'workclass', 'education', 'marital.status', 'occupation', 'relationship', 'race', 'sex', 'native.country']\n",
    "data[categorical_cols] = data[categorical_cols].apply(label_encoder.fit_transform)"
   ],
   "metadata": {
    "collapsed": false,
    "ExecuteTime": {
     "end_time": "2023-10-21T09:58:09.604289600Z",
     "start_time": "2023-10-21T09:58:09.503589100Z"
    }
   },
   "id": "5f6ee180b881328b"
  },
  {
   "cell_type": "code",
   "execution_count": 6,
   "outputs": [
    {
     "data": {
      "text/plain": "       age  workclass  fnlwgt  education  education.num  marital.status  \\\n0       82          2  132870         11              9               6   \n1       54          2  140359          5              4               0   \n2       41          2  264663         15             10               5   \n3       34          2  216864         11              9               0   \n4       38          2  150601          0              6               5   \n...    ...        ...     ...        ...            ...             ...   \n30689   22          2  310152         15             10               4   \n30690   27          2  257302          7             12               2   \n30691   40          2  154374         11              9               2   \n30692   58          2  151910         11              9               6   \n30693   22          2  201490         11              9               4   \n\n       occupation  relationship  race  sex  capital.gain  capital.loss  \\\n0               3             1     4    0             0          4356   \n1               6             4     4    0             0          3900   \n2               9             3     4    0             0          3900   \n3               7             4     4    0             0          3770   \n4               0             4     4    1             0          3770   \n...           ...           ...   ...  ...           ...           ...   \n30689          10             1     4    1             0             0   \n30690          12             5     4    0             0             0   \n30691           6             0     4    1             0             0   \n30692           0             4     4    0             0             0   \n30693           0             3     4    1             0             0   \n\n       native.country  income  \n0                  39       0  \n1                  39       0  \n2                  39       0  \n3                  39       0  \n4                  39       0  \n...               ...     ...  \n30689              39       0  \n30690              39       0  \n30691              39       1  \n30692              39       0  \n30693              39       0  \n\n[30694 rows x 14 columns]",
      "text/html": "<div>\n<style scoped>\n    .dataframe tbody tr th:only-of-type {\n        vertical-align: middle;\n    }\n\n    .dataframe tbody tr th {\n        vertical-align: top;\n    }\n\n    .dataframe thead th {\n        text-align: right;\n    }\n</style>\n<table border=\"1\" class=\"dataframe\">\n  <thead>\n    <tr style=\"text-align: right;\">\n      <th></th>\n      <th>age</th>\n      <th>workclass</th>\n      <th>fnlwgt</th>\n      <th>education</th>\n      <th>education.num</th>\n      <th>marital.status</th>\n      <th>occupation</th>\n      <th>relationship</th>\n      <th>race</th>\n      <th>sex</th>\n      <th>capital.gain</th>\n      <th>capital.loss</th>\n      <th>native.country</th>\n      <th>income</th>\n    </tr>\n  </thead>\n  <tbody>\n    <tr>\n      <th>0</th>\n      <td>82</td>\n      <td>2</td>\n      <td>132870</td>\n      <td>11</td>\n      <td>9</td>\n      <td>6</td>\n      <td>3</td>\n      <td>1</td>\n      <td>4</td>\n      <td>0</td>\n      <td>0</td>\n      <td>4356</td>\n      <td>39</td>\n      <td>0</td>\n    </tr>\n    <tr>\n      <th>1</th>\n      <td>54</td>\n      <td>2</td>\n      <td>140359</td>\n      <td>5</td>\n      <td>4</td>\n      <td>0</td>\n      <td>6</td>\n      <td>4</td>\n      <td>4</td>\n      <td>0</td>\n      <td>0</td>\n      <td>3900</td>\n      <td>39</td>\n      <td>0</td>\n    </tr>\n    <tr>\n      <th>2</th>\n      <td>41</td>\n      <td>2</td>\n      <td>264663</td>\n      <td>15</td>\n      <td>10</td>\n      <td>5</td>\n      <td>9</td>\n      <td>3</td>\n      <td>4</td>\n      <td>0</td>\n      <td>0</td>\n      <td>3900</td>\n      <td>39</td>\n      <td>0</td>\n    </tr>\n    <tr>\n      <th>3</th>\n      <td>34</td>\n      <td>2</td>\n      <td>216864</td>\n      <td>11</td>\n      <td>9</td>\n      <td>0</td>\n      <td>7</td>\n      <td>4</td>\n      <td>4</td>\n      <td>0</td>\n      <td>0</td>\n      <td>3770</td>\n      <td>39</td>\n      <td>0</td>\n    </tr>\n    <tr>\n      <th>4</th>\n      <td>38</td>\n      <td>2</td>\n      <td>150601</td>\n      <td>0</td>\n      <td>6</td>\n      <td>5</td>\n      <td>0</td>\n      <td>4</td>\n      <td>4</td>\n      <td>1</td>\n      <td>0</td>\n      <td>3770</td>\n      <td>39</td>\n      <td>0</td>\n    </tr>\n    <tr>\n      <th>...</th>\n      <td>...</td>\n      <td>...</td>\n      <td>...</td>\n      <td>...</td>\n      <td>...</td>\n      <td>...</td>\n      <td>...</td>\n      <td>...</td>\n      <td>...</td>\n      <td>...</td>\n      <td>...</td>\n      <td>...</td>\n      <td>...</td>\n      <td>...</td>\n    </tr>\n    <tr>\n      <th>30689</th>\n      <td>22</td>\n      <td>2</td>\n      <td>310152</td>\n      <td>15</td>\n      <td>10</td>\n      <td>4</td>\n      <td>10</td>\n      <td>1</td>\n      <td>4</td>\n      <td>1</td>\n      <td>0</td>\n      <td>0</td>\n      <td>39</td>\n      <td>0</td>\n    </tr>\n    <tr>\n      <th>30690</th>\n      <td>27</td>\n      <td>2</td>\n      <td>257302</td>\n      <td>7</td>\n      <td>12</td>\n      <td>2</td>\n      <td>12</td>\n      <td>5</td>\n      <td>4</td>\n      <td>0</td>\n      <td>0</td>\n      <td>0</td>\n      <td>39</td>\n      <td>0</td>\n    </tr>\n    <tr>\n      <th>30691</th>\n      <td>40</td>\n      <td>2</td>\n      <td>154374</td>\n      <td>11</td>\n      <td>9</td>\n      <td>2</td>\n      <td>6</td>\n      <td>0</td>\n      <td>4</td>\n      <td>1</td>\n      <td>0</td>\n      <td>0</td>\n      <td>39</td>\n      <td>1</td>\n    </tr>\n    <tr>\n      <th>30692</th>\n      <td>58</td>\n      <td>2</td>\n      <td>151910</td>\n      <td>11</td>\n      <td>9</td>\n      <td>6</td>\n      <td>0</td>\n      <td>4</td>\n      <td>4</td>\n      <td>0</td>\n      <td>0</td>\n      <td>0</td>\n      <td>39</td>\n      <td>0</td>\n    </tr>\n    <tr>\n      <th>30693</th>\n      <td>22</td>\n      <td>2</td>\n      <td>201490</td>\n      <td>11</td>\n      <td>9</td>\n      <td>4</td>\n      <td>0</td>\n      <td>3</td>\n      <td>4</td>\n      <td>1</td>\n      <td>0</td>\n      <td>0</td>\n      <td>39</td>\n      <td>0</td>\n    </tr>\n  </tbody>\n</table>\n<p>30694 rows × 14 columns</p>\n</div>"
     },
     "execution_count": 6,
     "metadata": {},
     "output_type": "execute_result"
    }
   ],
   "source": [
    "data"
   ],
   "metadata": {
    "collapsed": false,
    "ExecuteTime": {
     "end_time": "2023-10-21T09:58:09.641282800Z",
     "start_time": "2023-10-21T09:58:09.545086200Z"
    }
   },
   "id": "80afab7366987a7a"
  },
  {
   "cell_type": "code",
   "execution_count": 7,
   "outputs": [],
   "source": [
    "x_train, x_test, y_train, y_test = train_test_split(data.drop(columns=['income']), data['income'], test_size=0.2, random_state=42)"
   ],
   "metadata": {
    "collapsed": false,
    "ExecuteTime": {
     "end_time": "2023-10-21T09:58:09.641282800Z",
     "start_time": "2023-10-21T09:58:09.555881400Z"
    }
   },
   "id": "e550388a2cf9e423"
  },
  {
   "cell_type": "code",
   "execution_count": 8,
   "outputs": [],
   "source": [
    "scaler = StandardScaler()\n",
    "x_train = scaler.fit_transform(x_train)\n",
    "x_test = scaler.transform(x_test)"
   ],
   "metadata": {
    "collapsed": false,
    "ExecuteTime": {
     "end_time": "2023-10-21T09:58:09.643284900Z",
     "start_time": "2023-10-21T09:58:09.570100400Z"
    }
   },
   "id": "101ba31b08a786a7"
  },
  {
   "cell_type": "code",
   "execution_count": 9,
   "outputs": [],
   "source": [
    "rfc = RandomForestClassifier()\n",
    "rfc.fit(x_train, y_train)\n",
    "y_pred = rfc.predict(x_test)"
   ],
   "metadata": {
    "collapsed": false,
    "ExecuteTime": {
     "end_time": "2023-10-21T09:58:13.146089500Z",
     "start_time": "2023-10-21T09:58:09.593565100Z"
    }
   },
   "id": "caff81f5fb769a44"
  },
  {
   "cell_type": "code",
   "execution_count": 10,
   "outputs": [
    {
     "data": {
      "text/plain": "0.8566541782049194"
     },
     "execution_count": 10,
     "metadata": {},
     "output_type": "execute_result"
    }
   ],
   "source": [
    "# ACCURACY SCORE\n",
    "accuracy_score(y_test, y_pred)"
   ],
   "metadata": {
    "collapsed": false,
    "ExecuteTime": {
     "end_time": "2023-10-21T09:58:13.158309400Z",
     "start_time": "2023-10-21T09:58:13.146089500Z"
    }
   },
   "id": "be3b4772e08b4072"
  },
  {
   "cell_type": "code",
   "execution_count": 11,
   "outputs": [
    {
     "name": "stdout",
     "output_type": "stream",
     "text": [
      "              precision    recall  f1-score   support\n",
      "\n",
      "           0       0.89      0.93      0.91      4699\n",
      "           1       0.72      0.63      0.67      1440\n",
      "\n",
      "    accuracy                           0.86      6139\n",
      "   macro avg       0.81      0.78      0.79      6139\n",
      "weighted avg       0.85      0.86      0.85      6139\n"
     ]
    }
   ],
   "source": [
    "# CLASSIFICATION REPORT\n",
    "print(classification_report(y_test, y_pred))"
   ],
   "metadata": {
    "collapsed": false,
    "ExecuteTime": {
     "end_time": "2023-10-21T09:58:13.211713800Z",
     "start_time": "2023-10-21T09:58:13.152855400Z"
    }
   },
   "id": "2883f83713bf3d91"
  },
  {
   "cell_type": "code",
   "execution_count": 12,
   "outputs": [
    {
     "data": {
      "text/plain": "<Axes: >"
     },
     "execution_count": 12,
     "metadata": {},
     "output_type": "execute_result"
    },
    {
     "data": {
      "text/plain": "<Figure size 640x480 with 2 Axes>",
      "image/png": "[encoded data removed]"
     },
     "metadata": {},
     "output_type": "display_data"
    }
   ],
   "source": [
    "# CONFUSION MATRIX\n",
    "sns.heatmap(confusion_matrix(y_test, y_pred), annot=True, fmt='d')"
   ],
   "metadata": {
    "collapsed": false,
    "ExecuteTime": {
     "end_time": "2023-10-21T09:58:13.355012200Z",
     "start_time": "2023-10-21T09:58:13.179740900Z"
    }
   },
   "id": "53dea9971e07e2f0"
  },
  {
   "cell_type": "code",
   "execution_count": 13,
   "outputs": [],
   "source": [
    "# XGBOOST CLASSIFIER"
   ],
   "metadata": {
    "collapsed": false,
    "ExecuteTime": {
     "end_time": "2023-10-21T09:58:13.369543800Z",
     "start_time": "2023-10-21T09:58:13.356022300Z"
    }
   },
   "id": "404f26dda151ee4d"
  },
  {
   "cell_type": "code",
   "execution_count": 14,
   "outputs": [
    {
     "name": "stderr",
     "output_type": "stream",
     "text": [
      "C:\\Users\\Samson\\OneDrive - samxhavier\\Desktop\\FinalProject-AI\\venv\\Lib\\site-packages\\xgboost\\data.py:520: FutureWarning: is_sparse is deprecated and will be removed in a future version. Check `isinstance(dtype, pd.SparseDtype)` instead.\n",
      "  if is_sparse(data):\n"
     ]
    }
   ],
   "source": [
    "xgb = XGBClassifier()\n",
    "xgb.fit(x_train, y_train)\n",
    "y_pred = xgb.predict(x_test)"
   ],
   "metadata": {
    "collapsed": false,
    "ExecuteTime": {
     "end_time": "2023-10-21T09:58:13.752051300Z",
     "start_time": "2023-10-21T09:58:13.359689800Z"
    }
   },
   "id": "156207c2ed557f65"
  },
  {
   "cell_type": "code",
   "execution_count": 15,
   "outputs": [
    {
     "data": {
      "text/plain": "0.8705000814464896"
     },
     "execution_count": 15,
     "metadata": {},
     "output_type": "execute_result"
    }
   ],
   "source": [
    "# ACCURACY SCORE\n",
    "accuracy_score(y_test, y_pred)"
   ],
   "metadata": {
    "collapsed": false,
    "ExecuteTime": {
     "end_time": "2023-10-21T09:58:13.753049400Z",
     "start_time": "2023-10-21T09:58:13.730997900Z"
    }
   },
   "id": "3e1a0400a7e24a"
  },
  {
   "cell_type": "code",
   "execution_count": 16,
   "outputs": [
    {
     "name": "stdout",
     "output_type": "stream",
     "text": [
      "              precision    recall  f1-score   support\n",
      "\n",
      "           0       0.90      0.94      0.92      4699\n",
      "           1       0.76      0.65      0.70      1440\n",
      "\n",
      "    accuracy                           0.87      6139\n",
      "   macro avg       0.83      0.79      0.81      6139\n",
      "weighted avg       0.87      0.87      0.87      6139\n"
     ]
    }
   ],
   "source": [
    "# CLASSIFICATION REPORT\n",
    "print(classification_report(y_test, y_pred))"
   ],
   "metadata": {
    "collapsed": false,
    "ExecuteTime": {
     "end_time": "2023-10-21T09:58:13.773623800Z",
     "start_time": "2023-10-21T09:58:13.740039100Z"
    }
   },
   "id": "fafa4872604024a7"
  },
  {
   "cell_type": "code",
   "execution_count": 17,
   "outputs": [
    {
     "data": {
      "text/plain": "<Axes: >"
     },
     "execution_count": 17,
     "metadata": {},
     "output_type": "execute_result"
    },
    {
     "data": {
      "text/plain": "<Figure size 640x480 with 2 Axes>",
      "image/png": "[encoded data removed]"
     },
     "metadata": {},
     "output_type": "display_data"
    }
   ],
   "source": [
    "sns.heatmap(confusion_matrix(y_test, y_pred), annot=True, fmt='d')"
   ],
   "metadata": {
    "collapsed": false,
    "ExecuteTime": {
     "end_time": "2023-10-21T09:58:13.950602400Z",
     "start_time": "2023-10-21T09:58:13.760596100Z"
    }
   },
   "id": "d080a3c25e16efc3"
  },
  {
   "cell_type": "code",
   "execution_count": 18,
   "outputs": [],
   "source": [
    "# SUPPORT VECTOR MACHINES"
   ],
   "metadata": {
    "collapsed": false,
    "ExecuteTime": {
     "end_time": "2023-10-21T09:58:13.950602400Z",
     "start_time": "2023-10-21T09:58:13.938672400Z"
    }
   },
   "id": "4ec558c9539011c1"
  },
  {
   "cell_type": "code",
   "execution_count": 19,
   "outputs": [],
   "source": [
    "svc = SVC()\n",
    "svc.fit(x_train, y_train)\n",
    "y_pred = svc.predict(x_test)"
   ],
   "metadata": {
    "collapsed": false,
    "ExecuteTime": {
     "end_time": "2023-10-21T09:58:27.417476200Z",
     "start_time": "2023-10-21T09:58:13.943725200Z"
    }
   },
   "id": "a4a14e195ea94d7"
  },
  {
   "cell_type": "code",
   "execution_count": 20,
   "outputs": [
    {
     "data": {
      "text/plain": "0.8460661345496009"
     },
     "execution_count": 20,
     "metadata": {},
     "output_type": "execute_result"
    }
   ],
   "source": [
    "# ACCURACY SCORE\n",
    "accuracy_score(y_test, y_pred)"
   ],
   "metadata": {
    "collapsed": false,
    "ExecuteTime": {
     "end_time": "2023-10-21T09:58:27.433270Z",
     "start_time": "2023-10-21T09:58:27.419487Z"
    }
   },
   "id": "1a89d5cdb260d6dd"
  },
  {
   "cell_type": "code",
   "execution_count": 21,
   "outputs": [
    {
     "name": "stdout",
     "output_type": "stream",
     "text": [
      "              precision    recall  f1-score   support\n",
      "\n",
      "           0       0.87      0.94      0.90      4699\n",
      "           1       0.73      0.54      0.62      1440\n",
      "\n",
      "    accuracy                           0.85      6139\n",
      "   macro avg       0.80      0.74      0.76      6139\n",
      "weighted avg       0.84      0.85      0.84      6139\n"
     ]
    }
   ],
   "source": [
    "# CLASSIFICATION REPORT\n",
    "print(classification_report(y_test, y_pred))"
   ],
   "metadata": {
    "collapsed": false,
    "ExecuteTime": {
     "end_time": "2023-10-21T09:58:27.486890Z",
     "start_time": "2023-10-21T09:58:27.427262600Z"
    }
   },
   "id": "d398526e38d489e7"
  },
  {
   "cell_type": "code",
   "execution_count": 22,
   "outputs": [
    {
     "data": {
      "text/plain": "<Axes: >"
     },
     "execution_count": 22,
     "metadata": {},
     "output_type": "execute_result"
    },
    {
     "data": {
      "text/plain": "<Figure size 640x480 with 2 Axes>",
      "image/png": "[encoded data removed]"
     },
     "metadata": {},
     "output_type": "display_data"
    }
   ],
   "source": [
    "sns.heatmap(confusion_matrix(y_test, y_pred), annot=True, fmt='d')"
   ],
   "metadata": {
    "collapsed": false,
    "ExecuteTime": {
     "end_time": "2023-10-21T09:58:27.640878200Z",
     "start_time": "2023-10-21T09:58:27.442384700Z"
    }
   },
   "id": "21dea9a2b51c75ee"
  },
  {
   "cell_type": "code",
   "execution_count": 23,
   "outputs": [],
   "source": [
    "# RESULTS {\n",
    "#   RANDOM-FORESTS = 0.8651246131291741\n",
    "#   XGBOOST CLASSIFIER = 0.8669164359016126\n",
    "#   SUPPORT VECTOR MACHINES = 0.8468805994461639\n",
    "\n",
    "# AS A RESULT, XGBOOST-CLASSIFIER OBTAINS THE HIGHEST ACCURACY -->\n",
    "# |---------------------|\n",
    "# |  0.8669164359016126 |\n",
    "# |---------------------|"
   ],
   "metadata": {
    "collapsed": false,
    "ExecuteTime": {
     "end_time": "2023-10-21T09:58:27.653777800Z",
     "start_time": "2023-10-21T09:58:27.642567400Z"
    }
   },
   "id": "286c5c01f0437827"
  }
 ],
 "metadata": {
  "kernelspec": {
   "display_name": "Python 3",
   "language": "python",
   "name": "python3"
  },
  "language_info": {
   "codemirror_mode": {
    "name": "ipython",
    "version": 2
   },
   "file_extension": ".py",
   "mimetype": "text/x-python",
   "name": "python",
   "nbconvert_exporter": "python",
   "pygments_lexer": "ipython2",
   "version": "2.7.6"
  }
 },
 "nbformat": 4,
 "nbformat_minor": 5
}
